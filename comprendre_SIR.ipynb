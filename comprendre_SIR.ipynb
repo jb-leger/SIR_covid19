{
 "cells": [
  {
   "cell_type": "markdown",
   "metadata": {},
   "source": [
    "# SEIQR pour essayer de comprendre la dynamique de l'épidémie covid-19 (en France)\n",
    "\n",
    "_Disclamer: Je ne suis pas épidémiologiste._\n",
    "\n",
    "## Modèle\n",
    "Le modèle suppose 5 compartiments:\n",
    " - $S$: Compartiment des Succeptibles.\n",
    " - $E$: Compartiment des exposés (les personnes en incubation).\n",
    " - $I$: Compartiment des inféctés contagieux qui contaminent.\n",
    " - $Q$: Compartiemnt des infectés en quarantaine.\n",
    " - $R$: Compartiment des guéris et des morts (qui sont confondus dans ce\n",
    "   modèle).\n",
    "\n",
    "## Dynamique\n",
    "La dynamique du modèle est régie pas les équations suivantes:\n",
    " - $\\frac{dS(t)}{dt} = -\\beta\\frac{S(t)I(t)}{N}$\n",
    " - $\\frac{dE(t)}{dt} = \\beta\\frac{S(t)I(t)}{N} - aE(t)$\n",
    " - $\\frac{dI(t)}{dt} = aE(t)-\\gamma I(t)$\n",
    " - $\\frac{dQ(t)}{dt} = \\gamma I(t) - \\delta Q(t)$\n",
    " - $\\frac{dR(t)}{dt} = \\delta Q(t)$\n",
    "\n",
    "Sur les paramètres, on peut dire que:\n",
    " - $R_0=\\frac{\\beta}{\\gamma}$, et ça c'est interessant, car on connait $R_0$\n",
    "   (enfin on est capable d'aller dans la littérature chercher des valeurs\n",
    "   plausibles).\n",
    " - $a^{-1}$ est le temps moyen d'incubation.\n",
    " - $\\gamma^{-1}$ est le temps moyen pendant lequel un individu infectieux\n",
    "   contamine.\n",
    " - $\\delta^{-1}$ est le temps moyen qu'un indivudu contagieux qui ne contamine\n",
    "   plus (car isolé) reste en traitement avant mort ou guérison.\n",
    "\n",
    "## Initialisation\n",
    " - $I(0)$: nombre d'infectés non guéris et non morts (oui de considérer que tous le monde est contagieux dès le départ,\n",
    "   cela induit peut être le fait de voir le pic 1 ou 2 jours trop tôt).\n",
    " - $E(0)$ de telle manière à avoir $aE(0)$ qui correspond au flux (en utilisant\n",
    "   les données de la veille).\n",
    " - $Q(0)=0$, puisque j'ai mis tous les infectés dans $I$.\n",
    " - $R(0)=$, guéris + morts.\n",
    " - $S(0) = N-E(0)-I(0)-Q(0)-R(0)$."
   ]
  },
  {
   "cell_type": "markdown",
   "metadata": {},
   "source": [
    "## Le code\n",
    "\n",
    "Cette partie ne vous interesse pas forcément. Si vous voulez juste utiliser, executez les cellules une à une, et rendez-vous à la partie utilisation."
   ]
  },
  {
   "cell_type": "code",
   "execution_count": 1,
   "metadata": {},
   "outputs": [],
   "source": [
    "# Ce dont on a besoin\n",
    "import collections\n",
    "from typing import List\n",
    "import datetime\n",
    "import matplotlib.pyplot as plt\n",
    "import matplotlib.ticker as tic\n",
    "from ipywidgets import interact, interactive, fixed, interact_manual\n",
    "import ipywidgets as widgets"
   ]
  },
  {
   "cell_type": "code",
   "execution_count": 2,
   "metadata": {},
   "outputs": [],
   "source": [
    "# Les types dont on a besoin\n",
    "State = collections.namedtuple(\"State\", (\"t\", \"S\", \"E\", \"I\", \"Q\", \"R\"))\n",
    "\n",
    "SimulationParam = collections.namedtuple(\n",
    "    \"SimulationParam\",\n",
    "    (\"incubation_period\", \"infection_period\", \"quarantaine_period\", \"R0\"),\n",
    ")\n",
    "\n",
    "InitializationParam = collections.namedtuple(\n",
    "    \"InitializationParam\",\n",
    "    ( \n",
    "        \"infected_today\",\n",
    "        \"infected_yesterday\",\n",
    "        \"recovered_today\",\n",
    "        \"recovered_yesterday\",\n",
    "        \"population_size\",\n",
    "    ),\n",
    ")"
   ]
  },
  {
   "cell_type": "code",
   "execution_count": 3,
   "metadata": {},
   "outputs": [],
   "source": [
    "# La fonction principale de simulation\n",
    "def simu(\n",
    "    sim_par: SimulationParam, init_par: InitializationParam, timelimit: int = 365 * 24\n",
    ") -> List[State]:\n",
    "    \"\"\"Perform a simulation\n",
    "\n",
    "    Parameters:\n",
    "      - sim_par: A simulation parameter, all periods should be provided in days\n",
    "      - init_par: A initialization parameter, death are counted with recovered\n",
    "      - timeelimit: in hour, default (one year)\n",
    "\n",
    "    Returns:\n",
    "      - List of state, time in step is in hour.\n",
    "    \"\"\"\n",
    "\n",
    "    a = 1 / (sim_par.incubation_period * 24)\n",
    "    γ = 1 / (sim_par.infection_period * 24)\n",
    "    δ = 1 / (sim_par.quarantaine_period * 24) if sim_par.quarantaine_period > 0 else 1 \n",
    "    β = sim_par.R0 * γ \n",
    "\n",
    "    s_E = ( \n",
    "        init_par.infected_today\n",
    "        - init_par.infected_yesterday\n",
    "        + init_par.recovered_today\n",
    "        - init_par.recovered_yesterday\n",
    "    ) / (24 * a)\n",
    "    s_I = init_par.infected_today\n",
    "    s_R = init_par.recovered_today\n",
    "    s_Q = 0 \n",
    "    state = State(\n",
    "        0, init_par.population_size - s_E - s_I - s_R - s_Q, s_E, s_I, s_R, s_Q\n",
    "    ) \n",
    "\n",
    "    states = [state]\n",
    "    for t in range(1, 1 + timelimit):\n",
    "        succ_to_exposed = β * state.S * state.I / init_par.population_size\n",
    "        exposed_to_infected = a * state.E\n",
    "        infected_to_quarantaine = γ * state.I\n",
    "        quarantaine_to_recovered = δ * state.Q\n",
    "\n",
    "        state = State(\n",
    "            t=t,\n",
    "            S=state.S - succ_to_exposed,\n",
    "            E=state.E + succ_to_exposed - exposed_to_infected,\n",
    "            I=state.I + exposed_to_infected - infected_to_quarantaine,\n",
    "            Q=state.Q + infected_to_quarantaine - quarantaine_to_recovered,\n",
    "            R=state.R + quarantaine_to_recovered,\n",
    "        )\n",
    "\n",
    "        states.append(state)\n",
    "    return states"
   ]
  },
  {
   "cell_type": "code",
   "execution_count": 4,
   "metadata": {},
   "outputs": [],
   "source": [
    "# La fonction de dessin\n",
    "def do_plots(\n",
    "    today: datetime.datetime,\n",
    "    sim_par: SimulationParam,\n",
    "    init_par: InitializationParam,\n",
    "    ax=plt,\n",
    "    label=None,\n",
    "    to_plot=lambda x: x.I + x.Q,\n",
    "    horizon=365,\n",
    "):\n",
    "    \"\"\"Plot a simulation\n",
    "\n",
    "    Parameters:\n",
    "      - today: datetime object describing the time t=0.\n",
    "      - sim_par: A simulation parameter, all periods should be provided in days\n",
    "      - init_par: A initialization parameter, death are counted with recovered\n",
    "      - ax: ax to plot (by default plt)\n",
    "      - label\n",
    "      - to_plot: a lambda function extracting fields to plot from a state\n",
    "      - horizon: in days\n",
    "    \"\"\"\n",
    "\n",
    "    sim = simu(sim_par, init_par, timelimit=horizon*24)\n",
    "    ax.plot(\n",
    "        [today + datetime.timedelta(x.t / 24) for x in sim],\n",
    "        [to_plot(x) for x in sim],\n",
    "        label=label,\n",
    "    )\n",
    "    ax.yaxis.set_major_formatter(tic.EngFormatter(sep=\"\"))\n",
    "    ax.grid(True)\n"
   ]
  },
  {
   "cell_type": "markdown",
   "metadata": {},
   "source": [
    "## Utilisation\n",
    "\n",
    "Il convient dans un premier temps de définir ce qui va nous servir pour initialiser le modèle. J'utilise pour cela les données du 3 mars en France."
   ]
  },
  {
   "cell_type": "code",
   "execution_count": 5,
   "metadata": {},
   "outputs": [],
   "source": [
    "today = datetime.datetime(2020,3,3)\n",
    "ip = InitializationParam(\n",
    "    infected_today=212, \n",
    "    infected_yesterday=191, \n",
    "    recovered_today=16, \n",
    "    recovered_yesterday=15, \n",
    "    population_size=67e6\n",
    ")"
   ]
  },
  {
   "cell_type": "markdown",
   "metadata": {},
   "source": [
    "Puis un graphe qui bouge en fonction de $R_0$ et de la période d'incubation."
   ]
  },
  {
   "cell_type": "code",
   "execution_count": 6,
   "metadata": {
    "scrolled": false
   },
   "outputs": [
    {
     "data": {
      "application/vnd.jupyter.widget-view+json": {
       "model_id": "adb37cf5097745c89e276115284cd32d",
       "version_major": 2,
       "version_minor": 0
      },
      "text/plain": [
       "interactive(children=(FloatSlider(value=3.5, description='R0', max=5.0, min=1.0), FloatSlider(value=5.4, descr…"
      ]
     },
     "metadata": {},
     "output_type": "display_data"
    }
   ],
   "source": [
    "my_computer_is_slow = False\n",
    "@interact(\n",
    "    R0=widgets.FloatSlider(3.5,min=1,max=5,continuous_update=not my_computer_is_slow),\n",
    "    incub=widgets.FloatSlider(5.4,min=2,max=14,continuous_update=not my_computer_is_slow),\n",
    "    horizon=widgets.IntSlider(250,min=10,max=366,continuous_update=not my_computer_is_slow)\n",
    ")\n",
    "def a_plot(R0, incub, horizon):\n",
    "    fig,(ax1,ax2) = plt.subplots(2,1, figsize=(12,8))\n",
    "    sp_ref = SimulationParam(\n",
    "        incubation_period=5.4, \n",
    "        infection_period=2, \n",
    "        quarantaine_period=10, \n",
    "        R0=1.5)\n",
    "    sp = SimulationParam(\n",
    "        incubation_period=incub, \n",
    "        infection_period=2, \n",
    "        quarantaine_period=10, \n",
    "        R0=R0)\n",
    "    do_plots(today, sp_ref, ip, ax=ax1, label=f'$R_0={sp_ref.R0:.2f}, incub={sp_ref.incubation_period:.2f}$', horizon=horizon)\n",
    "    do_plots(today, sp, ip, ax=ax1, label=f'$R_0={sp.R0:.2f}, incub={sp.incubation_period:.2f}$', horizon=horizon)\n",
    "    ax1.legend()\n",
    "    ax1.set_ylabel('I(t)+Q(t)')\n",
    "    do_plots(today, sp_ref, ip, ax=ax2, label=f'$R_0={sp_ref.R0:.2f}, incub={sp_ref.incubation_period:.2f}$', to_plot=lambda x: x.I+x.Q+x.R, horizon=horizon)\n",
    "    do_plots(today, sp, ip, ax=ax2, label=f'$R_0={sp.R0:.2f}, incub={sp.incubation_period:.2f}$', to_plot=lambda x: x.I+x.Q+x.R, horizon=horizon)\n",
    "    ax2.legend()\n",
    "    ax2.set_ylabel('I(t)+Q(t)+R(t)')\n",
    "    "
   ]
  },
  {
   "cell_type": "markdown",
   "metadata": {},
   "source": [
    "Avec ce précédent graphique, on peut constater plein de choses, par exemple:\n",
    "\n",
    " - $R_0$ a un influence sur la hauteur du pic, donc du nombre de personne à traiter (dont une partie devra être hospitalisé).\n",
    " - la péride d'incubation a très peu d'influence sur la hauteur des pics et sur l'équilibre atteint, mais ça retarde la progression."
   ]
  },
  {
   "cell_type": "code",
   "execution_count": null,
   "metadata": {},
   "outputs": [],
   "source": []
  }
 ],
 "metadata": {
  "kernelspec": {
   "display_name": "Python 3",
   "language": "python",
   "name": "python3"
  },
  "language_info": {
   "codemirror_mode": {
    "name": "ipython",
    "version": 3
   },
   "file_extension": ".py",
   "mimetype": "text/x-python",
   "name": "python",
   "nbconvert_exporter": "python",
   "pygments_lexer": "ipython3",
   "version": "3.7.3"
  }
 },
 "nbformat": 4,
 "nbformat_minor": 2
}
